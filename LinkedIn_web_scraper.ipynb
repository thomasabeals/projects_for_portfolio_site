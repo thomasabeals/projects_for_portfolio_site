{
 "cells": [
  {
   "cell_type": "code",
   "execution_count": 2,
   "id": "05bd2ce5-64ef-4f64-8d25-9cd9e573f025",
   "metadata": {},
   "outputs": [
    {
     "data": {
      "application/vnd.plotly.v1+json": {
       "config": {
        "plotlyServerURL": "https://plot.ly"
       },
       "data": [
        {
         "coloraxis": "coloraxis",
         "hovertemplate": "Job Count=%{z}<br>Latitude=%{lat}<br>Longitude=%{lon}<extra></extra>",
         "lat": [
          51.3345535,
          24.8681591,
          39.28183135,
          43.2012665,
          33.721515100000005,
          49.68661997233614,
          52.5630137,
          45.2353449,
          52.4554736
         ],
         "lon": [
          -0.2612035,
          121.01890371679528,
          -76.56517544859402,
          -71.56306033790867,
          -84.38495587148412,
          -123.9512480324078,
          -3.6525668,
          -93.44621851642857,
          13.9571532
         ],
         "name": "",
         "radius": 20,
         "subplot": "mapbox",
         "type": "densitymapbox",
         "z": [
          1,
          1,
          1,
          1,
          1,
          1,
          1,
          1,
          1
         ]
        }
       ],
       "layout": {
        "coloraxis": {
         "colorbar": {
          "title": {
           "text": "Job Count"
          }
         },
         "colorscale": [
          [
           0,
           "#0d0887"
          ],
          [
           0.1111111111111111,
           "#46039f"
          ],
          [
           0.2222222222222222,
           "#7201a8"
          ],
          [
           0.3333333333333333,
           "#9c179e"
          ],
          [
           0.4444444444444444,
           "#bd3786"
          ],
          [
           0.5555555555555556,
           "#d8576b"
          ],
          [
           0.6666666666666666,
           "#ed7953"
          ],
          [
           0.7777777777777778,
           "#fb9f3a"
          ],
          [
           0.8888888888888888,
           "#fdca26"
          ],
          [
           1,
           "#f0f921"
          ]
         ]
        },
        "legend": {
         "tracegroupgap": 0
        },
        "mapbox": {
         "center": {
          "lat": 37.0902,
          "lon": -95.7129
         },
         "domain": {
          "x": [
           0,
           1
          ],
          "y": [
           0,
           1
          ]
         },
         "style": "carto-positron",
         "zoom": 3
        },
        "template": {
         "data": {
          "bar": [
           {
            "error_x": {
             "color": "#2a3f5f"
            },
            "error_y": {
             "color": "#2a3f5f"
            },
            "marker": {
             "line": {
              "color": "#E5ECF6",
              "width": 0.5
             },
             "pattern": {
              "fillmode": "overlay",
              "size": 10,
              "solidity": 0.2
             }
            },
            "type": "bar"
           }
          ],
          "barpolar": [
           {
            "marker": {
             "line": {
              "color": "#E5ECF6",
              "width": 0.5
             },
             "pattern": {
              "fillmode": "overlay",
              "size": 10,
              "solidity": 0.2
             }
            },
            "type": "barpolar"
           }
          ],
          "carpet": [
           {
            "aaxis": {
             "endlinecolor": "#2a3f5f",
             "gridcolor": "white",
             "linecolor": "white",
             "minorgridcolor": "white",
             "startlinecolor": "#2a3f5f"
            },
            "baxis": {
             "endlinecolor": "#2a3f5f",
             "gridcolor": "white",
             "linecolor": "white",
             "minorgridcolor": "white",
             "startlinecolor": "#2a3f5f"
            },
            "type": "carpet"
           }
          ],
          "choropleth": [
           {
            "colorbar": {
             "outlinewidth": 0,
             "ticks": ""
            },
            "type": "choropleth"
           }
          ],
          "contour": [
           {
            "colorbar": {
             "outlinewidth": 0,
             "ticks": ""
            },
            "colorscale": [
             [
              0,
              "#0d0887"
             ],
             [
              0.1111111111111111,
              "#46039f"
             ],
             [
              0.2222222222222222,
              "#7201a8"
             ],
             [
              0.3333333333333333,
              "#9c179e"
             ],
             [
              0.4444444444444444,
              "#bd3786"
             ],
             [
              0.5555555555555556,
              "#d8576b"
             ],
             [
              0.6666666666666666,
              "#ed7953"
             ],
             [
              0.7777777777777778,
              "#fb9f3a"
             ],
             [
              0.8888888888888888,
              "#fdca26"
             ],
             [
              1,
              "#f0f921"
             ]
            ],
            "type": "contour"
           }
          ],
          "contourcarpet": [
           {
            "colorbar": {
             "outlinewidth": 0,
             "ticks": ""
            },
            "type": "contourcarpet"
           }
          ],
          "heatmap": [
           {
            "colorbar": {
             "outlinewidth": 0,
             "ticks": ""
            },
            "colorscale": [
             [
              0,
              "#0d0887"
             ],
             [
              0.1111111111111111,
              "#46039f"
             ],
             [
              0.2222222222222222,
              "#7201a8"
             ],
             [
              0.3333333333333333,
              "#9c179e"
             ],
             [
              0.4444444444444444,
              "#bd3786"
             ],
             [
              0.5555555555555556,
              "#d8576b"
             ],
             [
              0.6666666666666666,
              "#ed7953"
             ],
             [
              0.7777777777777778,
              "#fb9f3a"
             ],
             [
              0.8888888888888888,
              "#fdca26"
             ],
             [
              1,
              "#f0f921"
             ]
            ],
            "type": "heatmap"
           }
          ],
          "heatmapgl": [
           {
            "colorbar": {
             "outlinewidth": 0,
             "ticks": ""
            },
            "colorscale": [
             [
              0,
              "#0d0887"
             ],
             [
              0.1111111111111111,
              "#46039f"
             ],
             [
              0.2222222222222222,
              "#7201a8"
             ],
             [
              0.3333333333333333,
              "#9c179e"
             ],
             [
              0.4444444444444444,
              "#bd3786"
             ],
             [
              0.5555555555555556,
              "#d8576b"
             ],
             [
              0.6666666666666666,
              "#ed7953"
             ],
             [
              0.7777777777777778,
              "#fb9f3a"
             ],
             [
              0.8888888888888888,
              "#fdca26"
             ],
             [
              1,
              "#f0f921"
             ]
            ],
            "type": "heatmapgl"
           }
          ],
          "histogram": [
           {
            "marker": {
             "pattern": {
              "fillmode": "overlay",
              "size": 10,
              "solidity": 0.2
             }
            },
            "type": "histogram"
           }
          ],
          "histogram2d": [
           {
            "colorbar": {
             "outlinewidth": 0,
             "ticks": ""
            },
            "colorscale": [
             [
              0,
              "#0d0887"
             ],
             [
              0.1111111111111111,
              "#46039f"
             ],
             [
              0.2222222222222222,
              "#7201a8"
             ],
             [
              0.3333333333333333,
              "#9c179e"
             ],
             [
              0.4444444444444444,
              "#bd3786"
             ],
             [
              0.5555555555555556,
              "#d8576b"
             ],
             [
              0.6666666666666666,
              "#ed7953"
             ],
             [
              0.7777777777777778,
              "#fb9f3a"
             ],
             [
              0.8888888888888888,
              "#fdca26"
             ],
             [
              1,
              "#f0f921"
             ]
            ],
            "type": "histogram2d"
           }
          ],
          "histogram2dcontour": [
           {
            "colorbar": {
             "outlinewidth": 0,
             "ticks": ""
            },
            "colorscale": [
             [
              0,
              "#0d0887"
             ],
             [
              0.1111111111111111,
              "#46039f"
             ],
             [
              0.2222222222222222,
              "#7201a8"
             ],
             [
              0.3333333333333333,
              "#9c179e"
             ],
             [
              0.4444444444444444,
              "#bd3786"
             ],
             [
              0.5555555555555556,
              "#d8576b"
             ],
             [
              0.6666666666666666,
              "#ed7953"
             ],
             [
              0.7777777777777778,
              "#fb9f3a"
             ],
             [
              0.8888888888888888,
              "#fdca26"
             ],
             [
              1,
              "#f0f921"
             ]
            ],
            "type": "histogram2dcontour"
           }
          ],
          "mesh3d": [
           {
            "colorbar": {
             "outlinewidth": 0,
             "ticks": ""
            },
            "type": "mesh3d"
           }
          ],
          "parcoords": [
           {
            "line": {
             "colorbar": {
              "outlinewidth": 0,
              "ticks": ""
             }
            },
            "type": "parcoords"
           }
          ],
          "pie": [
           {
            "automargin": true,
            "type": "pie"
           }
          ],
          "scatter": [
           {
            "fillpattern": {
             "fillmode": "overlay",
             "size": 10,
             "solidity": 0.2
            },
            "type": "scatter"
           }
          ],
          "scatter3d": [
           {
            "line": {
             "colorbar": {
              "outlinewidth": 0,
              "ticks": ""
             }
            },
            "marker": {
             "colorbar": {
              "outlinewidth": 0,
              "ticks": ""
             }
            },
            "type": "scatter3d"
           }
          ],
          "scattercarpet": [
           {
            "marker": {
             "colorbar": {
              "outlinewidth": 0,
              "ticks": ""
             }
            },
            "type": "scattercarpet"
           }
          ],
          "scattergeo": [
           {
            "marker": {
             "colorbar": {
              "outlinewidth": 0,
              "ticks": ""
             }
            },
            "type": "scattergeo"
           }
          ],
          "scattergl": [
           {
            "marker": {
             "colorbar": {
              "outlinewidth": 0,
              "ticks": ""
             }
            },
            "type": "scattergl"
           }
          ],
          "scattermapbox": [
           {
            "marker": {
             "colorbar": {
              "outlinewidth": 0,
              "ticks": ""
             }
            },
            "type": "scattermapbox"
           }
          ],
          "scatterpolar": [
           {
            "marker": {
             "colorbar": {
              "outlinewidth": 0,
              "ticks": ""
             }
            },
            "type": "scatterpolar"
           }
          ],
          "scatterpolargl": [
           {
            "marker": {
             "colorbar": {
              "outlinewidth": 0,
              "ticks": ""
             }
            },
            "type": "scatterpolargl"
           }
          ],
          "scatterternary": [
           {
            "marker": {
             "colorbar": {
              "outlinewidth": 0,
              "ticks": ""
             }
            },
            "type": "scatterternary"
           }
          ],
          "surface": [
           {
            "colorbar": {
             "outlinewidth": 0,
             "ticks": ""
            },
            "colorscale": [
             [
              0,
              "#0d0887"
             ],
             [
              0.1111111111111111,
              "#46039f"
             ],
             [
              0.2222222222222222,
              "#7201a8"
             ],
             [
              0.3333333333333333,
              "#9c179e"
             ],
             [
              0.4444444444444444,
              "#bd3786"
             ],
             [
              0.5555555555555556,
              "#d8576b"
             ],
             [
              0.6666666666666666,
              "#ed7953"
             ],
             [
              0.7777777777777778,
              "#fb9f3a"
             ],
             [
              0.8888888888888888,
              "#fdca26"
             ],
             [
              1,
              "#f0f921"
             ]
            ],
            "type": "surface"
           }
          ],
          "table": [
           {
            "cells": {
             "fill": {
              "color": "#EBF0F8"
             },
             "line": {
              "color": "white"
             }
            },
            "header": {
             "fill": {
              "color": "#C8D4E3"
             },
             "line": {
              "color": "white"
             }
            },
            "type": "table"
           }
          ]
         },
         "layout": {
          "annotationdefaults": {
           "arrowcolor": "#2a3f5f",
           "arrowhead": 0,
           "arrowwidth": 1
          },
          "autotypenumbers": "strict",
          "coloraxis": {
           "colorbar": {
            "outlinewidth": 0,
            "ticks": ""
           }
          },
          "colorscale": {
           "diverging": [
            [
             0,
             "#8e0152"
            ],
            [
             0.1,
             "#c51b7d"
            ],
            [
             0.2,
             "#de77ae"
            ],
            [
             0.3,
             "#f1b6da"
            ],
            [
             0.4,
             "#fde0ef"
            ],
            [
             0.5,
             "#f7f7f7"
            ],
            [
             0.6,
             "#e6f5d0"
            ],
            [
             0.7,
             "#b8e186"
            ],
            [
             0.8,
             "#7fbc41"
            ],
            [
             0.9,
             "#4d9221"
            ],
            [
             1,
             "#276419"
            ]
           ],
           "sequential": [
            [
             0,
             "#0d0887"
            ],
            [
             0.1111111111111111,
             "#46039f"
            ],
            [
             0.2222222222222222,
             "#7201a8"
            ],
            [
             0.3333333333333333,
             "#9c179e"
            ],
            [
             0.4444444444444444,
             "#bd3786"
            ],
            [
             0.5555555555555556,
             "#d8576b"
            ],
            [
             0.6666666666666666,
             "#ed7953"
            ],
            [
             0.7777777777777778,
             "#fb9f3a"
            ],
            [
             0.8888888888888888,
             "#fdca26"
            ],
            [
             1,
             "#f0f921"
            ]
           ],
           "sequentialminus": [
            [
             0,
             "#0d0887"
            ],
            [
             0.1111111111111111,
             "#46039f"
            ],
            [
             0.2222222222222222,
             "#7201a8"
            ],
            [
             0.3333333333333333,
             "#9c179e"
            ],
            [
             0.4444444444444444,
             "#bd3786"
            ],
            [
             0.5555555555555556,
             "#d8576b"
            ],
            [
             0.6666666666666666,
             "#ed7953"
            ],
            [
             0.7777777777777778,
             "#fb9f3a"
            ],
            [
             0.8888888888888888,
             "#fdca26"
            ],
            [
             1,
             "#f0f921"
            ]
           ]
          },
          "colorway": [
           "#636efa",
           "#EF553B",
           "#00cc96",
           "#ab63fa",
           "#FFA15A",
           "#19d3f3",
           "#FF6692",
           "#B6E880",
           "#FF97FF",
           "#FECB52"
          ],
          "font": {
           "color": "#2a3f5f"
          },
          "geo": {
           "bgcolor": "white",
           "lakecolor": "white",
           "landcolor": "#E5ECF6",
           "showlakes": true,
           "showland": true,
           "subunitcolor": "white"
          },
          "hoverlabel": {
           "align": "left"
          },
          "hovermode": "closest",
          "mapbox": {
           "style": "light"
          },
          "paper_bgcolor": "white",
          "plot_bgcolor": "#E5ECF6",
          "polar": {
           "angularaxis": {
            "gridcolor": "white",
            "linecolor": "white",
            "ticks": ""
           },
           "bgcolor": "#E5ECF6",
           "radialaxis": {
            "gridcolor": "white",
            "linecolor": "white",
            "ticks": ""
           }
          },
          "scene": {
           "xaxis": {
            "backgroundcolor": "#E5ECF6",
            "gridcolor": "white",
            "gridwidth": 2,
            "linecolor": "white",
            "showbackground": true,
            "ticks": "",
            "zerolinecolor": "white"
           },
           "yaxis": {
            "backgroundcolor": "#E5ECF6",
            "gridcolor": "white",
            "gridwidth": 2,
            "linecolor": "white",
            "showbackground": true,
            "ticks": "",
            "zerolinecolor": "white"
           },
           "zaxis": {
            "backgroundcolor": "#E5ECF6",
            "gridcolor": "white",
            "gridwidth": 2,
            "linecolor": "white",
            "showbackground": true,
            "ticks": "",
            "zerolinecolor": "white"
           }
          },
          "shapedefaults": {
           "line": {
            "color": "#2a3f5f"
           }
          },
          "ternary": {
           "aaxis": {
            "gridcolor": "white",
            "linecolor": "white",
            "ticks": ""
           },
           "baxis": {
            "gridcolor": "white",
            "linecolor": "white",
            "ticks": ""
           },
           "bgcolor": "#E5ECF6",
           "caxis": {
            "gridcolor": "white",
            "linecolor": "white",
            "ticks": ""
           }
          },
          "title": {
           "x": 0.05
          },
          "xaxis": {
           "automargin": true,
           "gridcolor": "white",
           "linecolor": "white",
           "ticks": "",
           "title": {
            "standoff": 15
           },
           "zerolinecolor": "white",
           "zerolinewidth": 2
          },
          "yaxis": {
           "automargin": true,
           "gridcolor": "white",
           "linecolor": "white",
           "ticks": "",
           "title": {
            "standoff": 15
           },
           "zerolinecolor": "white",
           "zerolinewidth": 2
          }
         }
        },
        "title": {
         "text": "Heatmap of Job Locations for Specified Title in the U.S.",
         "x": 0.5
        }
       }
      }
     },
     "metadata": {},
     "output_type": "display_data"
    }
   ],
   "source": [
    "import pandas as pd\n",
    "import geopandas as gpd\n",
    "import plotly.express as px\n",
    "from geopy.geocoders import Nominatim\n",
    "from collections import Counter\n",
    "import time\n",
    "\n",
    "# Sample job data, assuming 'innerText' field from the dictionary,\n",
    "job_data = [\n",
    "{'tagName': 'LI', 'className': 'N/A', 'id': 'N/A', 'innerText': 'President & Chief Executive Officer\\nPresident & Chief Executive Officer\\nInkinen Executive Search\\nWaimea, HI\\nActively Hiring\\n2 weeks ago', 'attributes': {}},\n",
    "{'tagName': 'LI', 'className': 'N/A', 'id': 'N/A', 'innerText': 'President/CEO\\nPresident/CEO\\nSalt Creek Capital\\nGreater St. Louis\\nActively Hiring\\n3 weeks ago', 'attributes': {}},\n",
    "{'tagName': 'LI', 'className': 'N/A', 'id': 'N/A', 'innerText': 'Chief Executive Officer\\nChief Executive Officer\\nAC Future\\nIrvine, CA\\nMedical insurance +3\\xa0benefits\\n1 month ago', 'attributes': {}},\n",
    "{'tagName': 'LI', 'className': 'N/A', 'id': 'N/A', 'innerText': 'President/CEO\\nPresident/CEO\\nSalt Creek Capital\\nSan Francisco Bay Area\\nActively Hiring\\n3 weeks ago', 'attributes': {}},\n",
    "{'tagName': 'LI', 'className': 'N/A', 'id': 'N/A', 'innerText': 'President and Chief Executive Officer\\nPresident and Chief Executive Officer\\nColorado Oil & Gas Association\\nDenver, CO\\n5 days ago', 'attributes': {}},\n",
    "{'tagName': 'LI', 'className': 'N/A', 'id': 'N/A', 'innerText': 'President/CEO\\nPresident/CEO\\nSalt Creek Capital\\nBoston, MA\\nActively Hiring\\n3 weeks ago', 'attributes': {}},\n",
    "{'tagName': 'LI', 'className': 'N/A', 'id': 'N/A', 'innerText': 'Chief Executive\\nChief Executive\\nAugment Jobs\\nUnited States\\n3 days ago', 'attributes': {}},\n",
    "{'tagName': 'LI', 'className': 'N/A', 'id': 'N/A', 'innerText': 'Chief Executive Officer, Huddle\\nChief Executive Officer, Huddle\\nPalm Venture Studios\\nAustin, TX\\n1 week ago', 'attributes': {}},\n",
    "{'tagName': 'LI', 'className': 'N/A', 'id': 'N/A', 'innerText': 'Chief Executive Officer\\nChief Executive Officer\\nGemTek\\nBeverly Hills, CA\\n6 days ago', 'attributes': {}},\n",
    "{'tagName': 'LI', 'className': 'N/A', 'id': 'N/A', 'innerText': 'President/CEO\\nPresident/CEO\\nSalt Creek Capital\\nLas Vegas, NV\\nActively Hiring\\n3 weeks ago', 'attributes': {}},\n",
    "{'tagName': 'LI', 'className': 'N/A', 'id': 'N/A', 'innerText': 'President/CEO\\nPresident/CEO\\nSalt Creek Capital\\nRichmond, VA\\nActively Hiring\\n3 weeks ago', 'attributes': {}},\n",
    "{'tagName': 'LI', 'className': 'N/A', 'id': 'N/A', 'innerText': 'President/CEO\\nPresident/CEO\\nSalt Creek Capital\\nAtlanta Metropolitan Area\\nActively Hiring\\n3 weeks ago', 'attributes': {}},\n",
    "{'tagName': 'LI', 'className': 'N/A', 'id': 'N/A', 'innerText': 'President & Chief Executive Officer\\nPresident & Chief Executive Officer\\nTennessee Chamber of Commerce & Industry\\nNashville, TN\\n2 weeks ago', 'attributes': {}},\n",
    "{'tagName': 'LI', 'className': 'N/A', 'id': 'N/A', 'innerText': 'CEO and Co-Founder\\nCEO and Co-Founder\\nPangaea Global Associates\\nArkansas, United States\\nMedical insurance +4\\xa0benefits\\n1 week ago', 'attributes': {}},\n",
    "{'tagName': 'LI', 'className': 'N/A', 'id': 'N/A', 'innerText': 'President and Chief Executive Officer\\nPresident and Chief Executive Officer\\nBay Cove Human Services\\nBoston, MA\\nActively Hiring +7\\xa0benefits\\n6 days ago', 'attributes': {}},\n",
    "{'tagName': 'LI', 'className': 'N/A', 'id': 'N/A', 'innerText': 'President and Chief Executive Officer\\nPresident and Chief Executive Officer\\nThe Jacobson Group\\nMichigan, United States\\nActively Hiring\\n2 months ago', 'attr,ibutes': {}},\n",
    "{'tagName': 'LI', 'className': 'N/A', 'id': 'N/A', 'innerText': 'Chief Executive Officer\\nChief Executive Officer\\nKMA Human Resources Consulting\\nAugusta, ME\\nBe an early applicant +4\\xa0benefits\\n1 week ago', 'attributes': {}},\n",
    "{'tagName': 'LI', 'className': 'N/A', 'id': 'N/A', 'innerText': 'President and CEO\\nPresident and CEO\\nBrewers Association\\nBoulder, CO\\n4 weeks ago', 'attributes': {}},\n",
    "{'tagName': 'LI', 'className': 'N/A', 'id': 'N/A', 'innerText': 'Chief Executive Officer (CEO)\\nChief Executive Officer (CEO)\\nVeracity Software Inc\\nVancouver, WA\\nBe an early applicant\\n1 month ago', 'attributes': {}},\n",
    "{'tagName': 'LI', 'className': 'N/A', 'id': 'N/A', 'innerText': 'Chief Executive Officer\\nChief Executive Officer\\nEncompass Health\\nPlano, TX\\nActively Hiring +4\\xa0benefits\\n1 week ago', 'attributes': {}},\n",
    "{'tagName': 'LI', 'className': 'N/A', 'id': 'N/A', 'innerText': 'President and Chief Executive Officer\\nPresident and Chief Executive Officer\\nThe Jacobson Group\\nMinnesota, United States\\nActively Hiring\\n3 months ago', 'att,ributes': {}},\n",
    "{'tagName': 'LI', 'className': 'N/A', 'id': 'N/A', 'innerText': 'President / Chief Executive Officer\\nPresident / Chief Executive Officer\\nThe Moran Company Executive Search\\nClearwater, FL\\n2 months ago', 'attributes': {}},\n",
    "{'tagName': 'LI', 'className': 'N/A', 'id': 'N/A', 'innerText': 'Chief Executive Officer\\nChief Executive Officer\\nPonca City Development Authority\\nPonca City, OK\\nBe an early applicant\\n3 months ago', 'attributes': {}},\n",
    "{'tagName': 'LI', 'className': 'N/A', 'id': 'N/A', 'innerText': 'CEO & Co-Founder - WealthTech\\nCEO & Co-Founder - WealthTech\\nFutureSight\\nUnited States\\nBe an early applicant\\n3 weeks ago', 'attributes': {}},\n",
    "{'tagName': 'LI', 'className': 'N/A', 'id': 'N/A', 'innerText': 'Chief Executive Officer\\nChief Executive Officer\\nVerge\\nHouston, TX\\nActively Hiring +4\\xa0benefits\\n2 months ago', 'attributes': {}},\n",
    "{'tagName': 'LI', 'className': 'N/A', 'id': 'N/A', 'innerText': 'Entrepreneur in Residence (Future CEO / Founder)\\nEntrepreneur in Residence (Future CEO / Founder)\\nFutureSight\\nSan Jose, CA\\nBe an early applicant\\n3 weeks ag,o', 'attributes': {}},\n",
    "{'tagName': 'LI', 'className': 'N/A', 'id': 'N/A', 'innerText': 'CEO\\nCEO\\nAugment Jobs\\nUnited States\\n4 days ago', 'attributes': {}},\n",
    "{'tagName': 'LI', 'className': 'N/A', 'id': 'N/A', 'innerText': 'President\\nPresident\\nPhifer & Company\\nNew York, NY\\nActively Hiring\\n6 days ago', 'attributes': {}},\n",
    "{'tagName': 'LI', 'className': 'N/A', 'id': 'N/A', 'innerText': 'President\\nPresident\\nTransport ATL\\nAnchorage, AK\\nBe an early applicant\\n1 day ago', 'attributes': {}},\n",
    "{'tagName': 'LI', 'className': 'N/A', 'id': 'N/A', 'innerText': 'President & Chief Executive Officer (CEO)\\nPresident & Chief Executive Officer (CEO)\\nThe Moran Company Executive Search\\nOmaha, NE\\n1 month ago', 'attributes': {}},\n",
    "{'tagName': 'LI', 'className': 'N/A', 'id': 'N/A', 'innerText': 'President\\nPresident\\nConfidential\\nMahwah, NJ\\nActively Hiring +4\\xa0benefits\\n6 days ago', 'attributes': {}},\n",
    "{'tagName': 'LI', 'className': 'N/A', 'id': 'N/A', 'innerText': 'Entrepreneur in Residence (Future CEO / Founder)\\nEntrepreneur in Residence (Future CEO / Founder)\\nFutureSight\\nPalo Alto, CA\\nBe an early applicant\\n3 weeks a,go', 'attributes': {}},\n",
    "{'tagName': 'LI', 'className': 'N/A', 'id': 'N/A', 'innerText': 'Entrepreneur in Residence (Future CEO / Founder)\\nEntrepreneur in Residence (Future CEO / Founder)\\nFutureSight\\nSan Francisco, CA\\nBe an early applicant\\n3 wee,ks ago', 'attributes': {}},\n",
    "{'tagName': 'LI', 'className': 'N/A', 'id': 'N/A', 'innerText': 'Chief Executive Officer - THC (Healthcare)\\nChief Executive Officer - THC (Healthcare)\\nLeap Brands\\nWinter Park, FL\\n5 months ago', 'attributes': {}},\n",
    "{'tagName': 'LI', 'className': 'N/A', 'id': 'N/A', 'innerText': 'Entrepreneur in Residence (Future CEO / Founder)\\nEntrepreneur in Residence (Future CEO / Founder)\\nFutureSight\\nLos Angeles, CA\\nBe an early applicant\\n3 weeks, ago', 'attributes': {}},\n",
    "{'tagName': 'LI', 'className': 'N/A', 'id': 'N/A', 'innerText': 'President\\nPresident\\nExecutive Leadership Solutions\\nDenver, CO\\nActively Hiring +6\\xa0benefits\\n2 weeks ago', 'attributes': {}},\n",
    "{'tagName': 'LI', 'className': 'N/A', 'id': 'N/A', 'innerText': 'Entrepreneur in Residence (Future CEO / Founder)\\nEntrepreneur in Residence (Future CEO / Founder)\\nFutureSight\\nBoulder, CO\\nBe an early applicant\\n3 weeks ago,', 'attributes': {}},\n",
    "{'tagName': 'LI', 'className': 'N/A', 'id': 'N/A', 'innerText': 'President and Chief Executive Officer\\nPresident and Chief Executive Officer\\nThe Jacobson Group\\nMaryland, United States\\nActively Hiring\\n2 months ago', 'attr,ibutes': {}},\n",
    "{'tagName': 'LI', 'className': 'N/A', 'id': 'N/A', 'innerText': 'Entrepreneur in Residence (Future CEO / Founder)\\nEntrepreneur in Residence (Future CEO / Founder)\\nFutureSight\\nMiami, FL\\nBe an early applicant\\n3 weeks ago', 'attributes': {}},\n",
    "{'tagName': 'LI', 'className': 'N/A', 'id': 'N/A', 'innerText': 'Entrepreneur in Residence (Future CEO / Founder)\\nEntrepreneur in Residence (Future CEO / Founder)\\nFutureSight\\nSeattle, WA\\nBe an early applicant\\n3 weeks ago,', 'attributes': {}},\n",
    "{'tagName': 'LI', 'className': 'N/A', 'id': 'N/A', 'innerText': 'President\\nPresident\\nBlue Signal Search\\nUnited States\\nActively Hiring\\n1 week ago', 'attributes': {}},\n",
    "{'tagName': 'LI', 'className': 'N/A', 'id': 'N/A', 'innerText': 'CEO-In-Training, Executive Director\\nCEO-In-Training, Executive Director\\nPennant\\nGreen Bay, WI\\nActively Hiring\\n2 weeks ago', 'attributes': {}},\n",
    "{'tagName': 'LI', 'className': 'N/A', 'id': 'N/A', 'innerText': 'Entrepreneur in Residence (Future CEO / Founder)\\nEntrepreneur in Residence (Future CEO / Founder)\\nFutureSight\\nDenver, CO\\nBe an early applicant\\n3 weeks ago', 'attributes': {}},\n",
    "{'tagName': 'LI', 'className': 'N/A', 'id': 'N/A', 'innerText': 'President & Chief Executive Officer (CEO)\\nPresident & Chief Executive Officer (CEO)\\nConnexus® Energy\\nRamsey, MN\\n3 days ago', 'attributes': {}},\n",
    "{'tagName': 'LI', 'className': 'N/A', 'id': 'N/A', 'innerText': 'Chief Executive Officer / President\\nChief Executive Officer / President\\nGet It Recruit - Executive\\nClearwater, FL\\nBe an early applicant\\n6 days ago', 'attri,butes': {}},\n",
    "{'tagName': 'LI', 'className': 'N/A', 'id': 'N/A', 'innerText': 'CEO - Manufacturing #1510\\nCEO - Manufacturing #1510\\nKeller Executive Search International\\nCleveland, OH\\n1 month ago', 'attributes': {}},\n",
    "{'tagName': 'LI', 'className': 'N/A', 'id': 'N/A', 'innerText': 'Chief Executive Officer: (Transportation Industry)\\nChief Executive Officer: (Transportation Industry)\\nEast 57th Street Partners\\nUnited States\\nActively Hirin,g\\n8 hours ago', 'attributes': {}},\n",
    "{'tagName': 'LI', 'className': 'N/A', 'id': 'N/A', 'innerText': 'President\\nPresident\\nEmployment Resource Group, Inc.\\nHudson, WI\\nActively Hiring\\n6 days ago', 'attributes': {}},\n",
    "{'tagName': 'LI', 'className': 'N/A', 'id': 'N/A', 'innerText': 'Founder\\nFounder\\nAugment Jobs\\nUnited States\\nBe an early applicant\\n5 days ago', 'attributes': {}},\n",
    "{'tagName': 'LI', 'className': 'N/A', 'id': 'N/A', 'innerText': 'Chief Executive Officer, Fitz Custom\\nChief Executive Officer, Fitz Custom\\nPalm Venture Studios\\nUnited States\\n3 months ago', 'attributes': {}},\n",
    "{'tagName': 'LI', 'className': 'N/A', 'id': 'N/A', 'innerText': 'CEO - Manufacturing #1510\\nCEO - Manufacturing #1510\\nKeller Executive Search International\\nAkron, OH\\n1 month ago', 'attributes': {}},\n",
    "{'tagName': 'LI', 'className': 'N/A', 'id': 'N/A', 'innerText': 'President USA&Canada\\nPresident USA&Canada\\nKienbaum\\nGreater Chicago Area\\nActively Hiring +4\\xa0benefits\\n1 week ago', 'attributes': {}},\n",
    "{'tagName': 'LI', 'className': 'N/A', 'id': 'N/A', 'innerText': 'Founder\\nFounder\\nAugment Jobs\\nUnited States\\nBe an early applicant\\n6 days ago', 'attributes': {}},\n",
    "{'tagName': 'LI', 'className': 'N/A', 'id': 'N/A', 'innerText': 'Founder\\nFounder\\nAugment Jobs\\nUnited States\\nBe an early applicant\\n1 week ago', 'attributes': {}},\n",
    "{'tagName': 'LI', 'className': 'N/A', 'id': 'N/A', 'innerText': 'President & CEO\\nPresident & CEO\\nVisit Oxnard\\nOxnard, CA\\n1 week ago', 'attributes': {}},\n",
    "{'tagName': 'LI', 'className': 'N/A', 'id': 'N/A', 'innerText': 'CEO - Manufacturing #1510\\nCEO - Manufacturing #1510\\nKeller Executive Search International\\nMedina, OH\\nBe an early applicant\\n1 month ago', 'attributes': {}},\n",
    "{'tagName': 'LI', 'className': 'N/A', 'id': 'N/A', 'innerText': 'Chief Executive Officer - Construction\\nChief Executive Officer - Construction\\nLeap Brands\\nThonotosassa, FL\\n3 months ago', 'attributes': {}},\n",
    "{'tagName': 'LI', 'className': 'N/A', 'id': 'N/A', 'innerText': 'Founder\\nFounder\\nAugment Jobs\\nUnited States\\nBe an early applicant\\n1 week ago', 'attributes': {}},\n",
    "{'tagName': 'LI', 'className': 'N/A', 'id': 'N/A', 'innerText': 'Chief Executive Officer\\nChief Executive Officer\\nMaryland Nonprofits\\nEast Providence, RI\\nBe an early applicant\\n4 days ago', 'attributes': {}},\n",
    "{'tagName': 'LI', 'className': 'N/A', 'id': 'N/A', 'innerText': 'CEO - Manufacturing #1510\\nCEO - Manufacturing #1510\\nKeller Executive Search International\\nOrrville, OH\\n1 month ago', 'attributes': {}},\n",
    "]\n",
    "\n",
    "# Extract cities and states,\n",
    "locations = []\n",
    "for job in job_data:\n",
    "    lines = job['innerText'].split('\\n')\n",
    "    if len(lines) >= 3:\n",
    "        locations.append(lines[2])\n",
    "\n",
    "# Count occurrences\n",
    "location_counts = Counter(locations)\n",
    "\n",
    "# Convert to DataFrame\n",
    "df = pd.DataFrame(location_counts.items(), columns=['Location', 'Job Count'])\n",
    "\n",
    "# Geocode locations\n",
    "geolocator = Nominatim(user_agent=\"geoapi\")\n",
    "latitudes = []\n",
    "longitudes = []\n",
    "\n",
    "for location in df['Location']:\n",
    "    try:\n",
    "        loc = geolocator.geocode(location)\n",
    "        if loc:\n",
    "            latitudes.append(loc.latitude)\n",
    "            longitudes.append(loc.longitude)\n",
    "        else:\n",
    "            latitudes.append(None)\n",
    "            longitudes.append(None)\n",
    "        time.sleep(1)  # Pause to respect rate limits\n",
    "    except Exception as e:\n",
    "        latitudes.append(None)\n",
    "        longitudes.append(None)\n",
    "\n",
    "df['Latitude'] = latitudes\n",
    "df['Longitude'] = longitudes\n",
    "df.dropna(inplace=True)\n",
    "\n",
    "# Plot heat map\n",
    "fig = px.density_mapbox(df, lat='Latitude', lon='Longitude', z='Job Count',\n",
    "                        radius=20, center=dict(lat=37.0902, lon=-95.7129), zoom=3,\n",
    "                        mapbox_style=\"carto-positron\",\n",
    "                        title=\"Heatmap of Job Locations for Specified Title in the U.S.\")\n",
    "\n",
    "fig.update_layout(title_x=0.5)\n",
    "fig.show()\n"
   ]
  },
  {
   "cell_type": "markdown",
   "id": "e6975565",
   "metadata": {},
   "source": [
    "```### Explanation:\n",
    "\n",
    "1. **Data Extraction**: This pulls city and state from each job entry.\n",
    "2. **Geocoding**: Converts cities to geographic coordinates.\n",
    "3. **Data Cleaning**: Removes rows without valid coordinates.\n",
    "4. **Plotting**: Uses Plotly’s `density_mapbox` to overlay a heat map on the U.S., with higher density showing more jobs.\n",
    "\n",
    "This visualization can be embedded into your portfolio site using Plotly’s HTML export capabilities. You can expand this further by adding filters for job titles or company names, and even layering in job trends over time."
   ]
  },
  {
   "cell_type": "code",
   "execution_count": null,
   "id": "5b24cc12",
   "metadata": {},
   "outputs": [],
   "source": [
    "To create a heat map showing job locations on a U.S. map, you can follow these steps to extract location data and use Python libraries like `pandas`, `geopandas`, and `plotly`:\n",
    "\n",
    "1. **Extract City and State Information**: Parse the location data for each job posting to extract cities and states.\n",
    "  \n",
    "2. **Geocode Locations**: Use a library like `geopy` to convert city/state names into latitude and longitude coordinates.\n",
    "\n",
    "3. **Count Job Occurrences by Location**: Count the occurrences of each city in the job data to determine job density per location.\n",
    "\n",
    "4. **Visualize with Plotly**: Create a heat map overlaying these points on a U.S. map. Here’s an example code outline:\n",
    "\n",
    "```python\n",
    "\n"
   ]
  },
  {
   "cell_type": "code",
   "execution_count": null,
   "id": "103c2c37",
   "metadata": {},
   "outputs": [],
   "source": [
    "import React, { useState } from 'react';\n",
    "\n",
    "const JobHeatmap = () => {\n",
    "  const jobsByState = {\n",
    "    'AK': 1, \n",
    "    'CA': 5, \n",
    "    'CO': 4, \n",
    "    'FL': 4, \n",
    "    'GA': 1, \n",
    "    'HI': 1, \n",
    "    'IL': 1, \n",
    "    'MA': 2, \n",
    "    'ME': 1, \n",
    "    'MD': 1, \n",
    "    'MN': 2, \n",
    "    'NJ': 1, \n",
    "    'NV': 1, \n",
    "    'NY': 1, \n",
    "    'OH': 4, \n",
    "    'OK': 1, \n",
    "    'RI': 1, \n",
    "    'TX': 2, \n",
    "    'VA': 1, \n",
    "    'WA': 2, \n",
    "    'WI': 2\n",
    "  };\n",
    "\n",
    "  const [hoveredState, setHoveredState] = useState(null);\n",
    "\n",
    "  const getColor = (count) => {\n",
    "    const maxCount = 5; // Maximum jobs in a state\n",
    "    const intensity = count ? (count / maxCount) : 0;\n",
    "    return `rgb(0, 0, ${Math.floor(255 * (0.3 + 0.7 * intensity))})`;\n",
    "  };\n",
    "\n",
    "  return (\n",
    "    <div className=\"w-full max-w-4xl mx-auto p-4 bg-white rounded-lg shadow\">\n",
    "      <h2 className=\"text-2xl font-bold mb-4 text-center\">Executive Job Distribution Across the US</h2>\n",
    "      \n",
    "      <div className=\"relative\">\n",
    "        <div className=\"mb-4 text-center\">\n",
    "          {hoveredState && (\n",
    "            <div className=\"text-lg\">\n",
    "              {hoveredState}: {jobsByState[hoveredState] || 0} jobs\n",
    "            </div>\n",
    "          )}\n",
    "        </div>\n",
    "\n",
    "        <svg viewBox=\"0 0 1000 600\" className=\"w-full h-auto\">\n",
    "          <rect x=\"0\" y=\"0\" width=\"1000\" height=\"600\" fill=\"#f0f0f0\" />\n",
    "          \n",
    "          {/* Sample state rectangles - simplified representation */}\n",
    "          {Object.entries(jobsByState).map(([state, count]) => {\n",
    "            // Simplified positioning - just for demonstration\n",
    "            const positions = {\n",
    "              'CA': { x: 100, y: 200, width: 50, height: 80 },\n",
    "              'TX': { x: 300, y: 300, width: 70, height: 60 },\n",
    "              'FL': { x: 650, y: 400, width: 50, height: 30 },\n",
    "              'NY': { x: 700, y: 150, width: 30, height: 30 },\n",
    "              // Add more state positions as needed\n",
    "            };\n",
    "\n",
    "            const statePos = positions[state];\n",
    "            if (!statePos) return null;\n",
    "\n",
    "            return (\n",
    "              <g key={state}>\n",
    "                <rect\n",
    "                  x={statePos.x}\n",
    "                  y={statePos.y}\n",
    "                  width={statePos.width}\n",
    "                  height={statePos.height}\n",
    "                  fill={getColor(count)}\n",
    "                  stroke=\"#fff\"\n",
    "                  strokeWidth=\"1\"\n",
    "                  onMouseEnter={() => setHoveredState(state)}\n",
    "                  onMouseLeave={() => setHoveredState(null)}\n",
    "                  className=\"cursor-pointer hover:opacity-80\"\n",
    "                />\n",
    "                <text\n",
    "                  x={statePos.x + statePos.width/2}\n",
    "                  y={statePos.y + statePos.height/2}\n",
    "                  textAnchor=\"middle\"\n",
    "                  fill=\"#ffffff\"\n",
    "                  fontSize=\"12\"\n",
    "                >\n",
    "                  {state}\n",
    "                </text>\n",
    "              </g>\n",
    "            );\n",
    "          })}\n",
    "        </svg>\n",
    "      </div>\n",
    "\n",
    "      <div className=\"mt-4\">\n",
    "        <div className=\"flex justify-between items-center px-4\">\n",
    "          <span>Fewer Jobs</span>\n",
    "          <div className=\"flex gap-1\">\n",
    "            {[0, 1, 2, 3, 4, 5].map((level) => (\n",
    "              <div\n",
    "                key={level}\n",
    "                className=\"w-8 h-4\"\n",
    "                style={{ backgroundColor: getColor(level) }}\n",
    "              />\n",
    "            ))}\n",
    "          </div>\n",
    "          <span>More Jobs</span>\n",
    "        </div>\n",
    "      </div>\n",
    "    </div>\n",
    "  );\n",
    "};\n",
    "\n",
    "export default JobHeatmap;"
   ]
  },
  {
   "cell_type": "code",
   "execution_count": null,
   "id": "8f6f346d",
   "metadata": {},
   "outputs": [],
   "source": [
    "import React, { useState } from 'react';\n",
    "\n",
    "const JobHeatmap = () => {\n",
    "  const jobsByState = {\n",
    "    'AK': 1, \n",
    "    'CA': 5, \n",
    "    'CO': 4, \n",
    "    'FL': 4, \n",
    "    'GA': 1, \n",
    "    'HI': 1, \n",
    "    'IL': 1, \n",
    "    'MA': 2, \n",
    "    'ME': 1, \n",
    "    'MD': 1, \n",
    "    'MN': 2, \n",
    "    'NJ': 1, \n",
    "    'NV': 1, \n",
    "    'NY': 1, \n",
    "    'OH': 4, \n",
    "    'OK': 1, \n",
    "    'RI': 1, \n",
    "    'TX': 2, \n",
    "    'VA': 1, \n",
    "    'WA': 2, \n",
    "    'WI': 2\n",
    "  };\n",
    "\n",
    "  const [hoveredState, setHoveredState] = useState(null);\n",
    "\n",
    "  const getColor = (count) => {\n",
    "    const maxCount = 5; // Maximum jobs in a state\n",
    "    const intensity = count ? (count / maxCount) : 0;\n",
    "    return `rgb(0, 0, ${Math.floor(255 * (0.3 + 0.7 * intensity))})`;\n",
    "  };\n",
    "\n",
    "  return (\n",
    "    <div className=\"w-full max-w-4xl mx-auto p-4 bg-white rounded-lg shadow\">\n",
    "      <h2 className=\"text-2xl font-bold mb-4 text-center\">Executive Job Distribution Across the US</h2>\n",
    "      \n",
    "      <div className=\"relative\">\n",
    "        <div className=\"mb-4 text-center\">\n",
    "          {hoveredState && (\n",
    "            <div className=\"text-lg\">\n",
    "              {hoveredState}: {jobsByState[hoveredState] || 0} jobs\n",
    "            </div>\n",
    "          )}\n",
    "        </div>\n",
    "\n",
    "        <svg viewBox=\"0 0 1000 600\" className=\"w-full h-auto\">\n",
    "          <rect x=\"0\" y=\"0\" width=\"1000\" height=\"600\" fill=\"#f0f0f0\" />\n",
    "          \n",
    "          {/* Sample state rectangles - simplified representation */}\n",
    "          {Object.entries(jobsByState).map(([state, count]) => {\n",
    "            // Simplified positioning - just for demonstration\n",
    "            const positions = {\n",
    "              'CA': { x: 100, y: 200, width: 50, height: 80 },\n",
    "              'TX': { x: 300, y: 300, width: 70, height: 60 },\n",
    "              'FL': { x: 650, y: 400, width: 50, height: 30 },\n",
    "              'NY': { x: 700, y: 150, width: 30, height: 30 },\n",
    "              // Add more state positions as needed\n",
    "            };\n",
    "\n",
    "            const statePos = positions[state];\n",
    "            if (!statePos) return null;\n",
    "\n",
    "            return (\n",
    "              <g key={state}>\n",
    "                <rect\n",
    "                  x={statePos.x}\n",
    "                  y={statePos.y}\n",
    "                  width={statePos.width}\n",
    "                  height={statePos.height}\n",
    "                  fill={getColor(count)}\n",
    "                  stroke=\"#fff\"\n",
    "                  strokeWidth=\"1\"\n",
    "                  onMouseEnter={() => setHoveredState(state)}\n",
    "                  onMouseLeave={() => setHoveredState(null)}\n",
    "                  className=\"cursor-pointer hover:opacity-80\"\n",
    "                />\n",
    "                <text\n",
    "                  x={statePos.x + statePos.width/2}\n",
    "                  y={statePos.y + statePos.height/2}\n",
    "                  textAnchor=\"middle\"\n",
    "                  fill=\"#ffffff\"\n",
    "                  fontSize=\"12\"\n",
    "                >\n",
    "                  {state}\n",
    "                </text>\n",
    "              </g>\n",
    "            );\n",
    "          })}\n",
    "        </svg>\n",
    "      </div>\n",
    "\n",
    "      <div className=\"mt-4\">\n",
    "        <div className=\"flex justify-between items-center px-4\">\n",
    "          <span>Fewer Jobs</span>\n",
    "          <div className=\"flex gap-1\">\n",
    "            {[0, 1, 2, 3, 4, 5].map((level) => (\n",
    "              <div\n",
    "                key={level}\n",
    "                className=\"w-8 h-4\"\n",
    "                style={{ backgroundColor: getColor(level) }}\n",
    "              />\n",
    "            ))}\n",
    "          </div>\n",
    "          <span>More Jobs</span>\n",
    "        </div>\n",
    "      </div>\n",
    "    </div>\n",
    "  );\n",
    "};\n",
    "\n",
    "export default JobHeatmap;"
   ]
  }
 ],
 "metadata": {
  "kernelspec": {
   "display_name": "base",
   "language": "python",
   "name": "python3"
  },
  "language_info": {
   "codemirror_mode": {
    "name": "ipython",
    "version": 3
   },
   "file_extension": ".py",
   "mimetype": "text/x-python",
   "name": "python",
   "nbconvert_exporter": "python",
   "pygments_lexer": "ipython3",
   "version": "3.12.4"
  }
 },
 "nbformat": 4,
 "nbformat_minor": 5
}
