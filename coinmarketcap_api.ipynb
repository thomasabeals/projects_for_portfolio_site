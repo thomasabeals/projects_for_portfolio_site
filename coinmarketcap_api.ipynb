{
 "cells": [
  {
   "cell_type": "code",
   "execution_count": 4,
   "id": "b5b4b861-fe64-45e4-80d3-48608d5e127a",
   "metadata": {},
   "outputs": [
    {
     "name": "stdout",
     "output_type": "stream",
     "text": [
      "                        Date          Name  Market Cap (USD)\n",
      "0   2024-10-14T21:06:00.000Z       Bitcoin      1.302450e+12\n",
      "1   2024-10-14T21:06:00.000Z      Ethereum      3.155133e+11\n",
      "2   2024-10-14T21:06:00.000Z   Tether USDt      1.197362e+11\n",
      "3   2024-10-14T21:06:00.000Z           BNB      8.581255e+10\n",
      "4   2024-10-14T21:06:00.000Z        Solana      7.332515e+10\n",
      "5   2024-10-14T21:05:00.000Z          USDC      3.492778e+10\n",
      "6   2024-10-14T21:05:00.000Z           XRP      3.097028e+10\n",
      "7   2024-10-14T21:05:00.000Z      Dogecoin      1.693917e+10\n",
      "8   2024-10-14T21:05:00.000Z          TRON      1.388773e+10\n",
      "9   2024-10-14T21:05:00.000Z       Toncoin      1.351972e+10\n",
      "10  2024-10-14T21:05:00.000Z       Cardano      1.269989e+10\n",
      "11  2024-10-14T21:05:00.000Z     Avalanche      1.185512e+10\n",
      "12  2024-10-14T21:05:00.000Z     Shiba Inu      1.079991e+10\n",
      "13  2024-10-14T21:05:00.000Z     Chainlink      7.040136e+09\n",
      "14  2024-10-14T21:05:00.000Z  Bitcoin Cash      7.014396e+09\n"
     ]
    }
   ],
   "source": [
    "import pandas as pd\n",
    "import plotly.express as px\n",
    "import json\n",
    "\n",
    "# Load the JSON data with historical data included\n",
    "with open('/home/thomas/Thomas_Beals_Data_Analysis/Base_Services/Collecting_Data/API/cmc_response.json', 'r') as file:\n",
    "    data = json.load(file)\n",
    "\n",
    "# Extract relevant data (assuming you have historical data over time)\n",
    "top_cryptos = [\"Bitcoin\", \"Ethereum\", \"Binance Coin\", \"Tether\", \"Cardano\"]\n",
    "df = pd.DataFrame({\n",
    "    \"Date\": [crypto['last_updated'] for crypto in data['data']],\n",
    "    \"Name\": [crypto['name'] for crypto in data['data']],\n",
    "    \"Market Cap (USD)\": [crypto['quote']['USD']['market_cap'] for crypto in data['data']]\n",
    "})\n",
    "print(df)\n",
    "\n",
    "fig = px.line(df, x=\"Date\", y=\"Market Cap (USD)\", color=\"Name\", title=\"Top Cryptocurrency Market Cap Trends Over Time\")\n",
    "\n",
    "fig.update_layout(\n",
    "    xaxis_title=\"Date\",\n",
    "    yaxis_title=\"Market Cap in USD\",\n",
    "    font=dict(size=16),\n",
    "    legend_title=\"Cryptocurrency\"\n",
    ")\n",
    "\n",
    "# Save as HTML file to embed\n",
    "fig.write_html(\"crypto_market_trends.html\")"
   ]
  },
  {
   "cell_type": "code",
   "execution_count": null,
   "id": "bae6212a",
   "metadata": {},
   "outputs": [],
   "source": []
  },
  {
   "cell_type": "markdown",
   "id": "9a942cb1",
   "metadata": {},
   "source": [
    "To create a meaningful, embeddable visualization for potential cryptocurrency investors, a dynamic bar chart with **Historical Market Cap Trends** can be highly effective. This visualization can provide a comparison of the top cryptocurrencies' market caps over a selected period, highlighting trends that showcase the market's overall growth, volatility, or stability. Here’s how you can integrate it:\n",
    "\n",
    "1. **Create the Visualization with Plotly**:\n",
    "   Plotly’s `plotly.express` library can render an interactive HTML chart that you can embed directly into your site. Here’s the code for generating the visualization:\n",
    "\n",
    "   ```python"
   ]
  },
  {
   "cell_type": "markdown",
   "id": "10f7e87a",
   "metadata": {},
   "source": [
    "   ```\n",
    "\n",
    "2. **Embed into HTML**:\n",
    "   After generating the HTML file, you can embed it directly in your website. Add the following line where you’d like the chart to appear:\n",
    "\n",
    "   ```html\n",
    "   <iframe src=\"path/to/crypto_market_trends.html\" width=\"100%\" height=\"500px\" style=\"border:none;\"></iframe>\n",
    "   ```\n",
    "\n",
    "3. **Enhancements for Meaningful Insights**:\n",
    "   - **Tooltips**: Include price changes and trading volume to provide deeper context.\n",
    "   - **Call to Action**: Add text above the chart encouraging viewers to analyze trends and understand market shifts before investing.\n",
    "   - **Future Expansions**: Integrate additional financial metrics (e.g., ROI, volatility index) to deepen investor insights.\n",
    "\n",
    "This chart can serve as a powerful tool for helping users make more informed decisions by visualizing historical trends that reflect the market's potential."
   ]
  }
 ],
 "metadata": {
  "kernelspec": {
   "display_name": "base",
   "language": "python",
   "name": "python3"
  },
  "language_info": {
   "codemirror_mode": {
    "name": "ipython",
    "version": 3
   },
   "file_extension": ".py",
   "mimetype": "text/x-python",
   "name": "python",
   "nbconvert_exporter": "python",
   "pygments_lexer": "ipython3",
   "version": "3.12.4"
  }
 },
 "nbformat": 4,
 "nbformat_minor": 5
}
